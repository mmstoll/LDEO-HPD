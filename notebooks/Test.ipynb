{
 "cells": [
  {
   "cell_type": "markdown",
   "id": "d9d1b0cd-8003-4bd7-9bfc-6cb0095e6377",
   "metadata": {},
   "source": [
    "NEW"
   ]
  }
 ],
 "metadata": {
  "kernelspec": {
   "display_name": "Python 3 (ipykernel)",
   "language": "python",
   "name": "python3"
  },
  "language_info": {
   "codemirror_mode": {
    "name": "ipython",
    "version": 3
   },
   "file_extension": ".py",
   "mimetype": "text/x-python",
   "name": "python",
   "nbconvert_exporter": "python",
   "pygments_lexer": "ipython3",
   "version": "3.8.13"
  }
 },
 "nbformat": 4,
 "nbformat_minor": 5
}
